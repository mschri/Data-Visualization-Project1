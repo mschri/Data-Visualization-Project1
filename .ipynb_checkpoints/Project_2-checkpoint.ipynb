{
 "cells": [
  {
   "cell_type": "code",
   "execution_count": 1,
   "id": "5086126e",
   "metadata": {},
   "outputs": [],
   "source": [
    "\"\"\"\n",
    "Template for week 2 practice in Data Visualization\n",
    "\n",
    "Compute binomial distribution and plot its histogram using matplotlib\n",
    "\"\"\"\n",
    "\n",
    "import random\n",
    "import matplotlib.pyplot as plt"
   ]
  },
  {
   "cell_type": "code",
   "execution_count": 2,
   "id": "7b4b9b40",
   "metadata": {},
   "outputs": [],
   "source": [
    "# Resource paths\n",
    "DATA_PATH = \"data/\""
   ]
  },
  {
   "cell_type": "code",
   "execution_count": 13,
   "id": "563e7ece",
   "metadata": {},
   "outputs": [],
   "source": [
    "###################################################################\n",
    "# Student code for computing binomial distribution (machine-graded)\n",
    "\n",
    "def compute_distribution(flips, trials, seed=None):\n",
    "    \"\"\"\n",
    "    Input: Integers flips, trials, optional integer seed\n",
    "    \n",
    "    Output: List of integers of length trials, generated via fliping a coin flips times\n",
    "    \n",
    "    NOTE: seed is used to initialize the random number generate for deterministic testing\n",
    "    \"\"\" \n",
    "    if seed:\n",
    "        random.seed(seed)\n",
    "        \n",
    "    distribution = []\n",
    "    for dummy_trial in range(trials):\n",
    "        heads = 0\n",
    "        for dummy in range(flips):\n",
    "            if random.randrange(2) == 0:\n",
    "                heads += 1\n",
    "        distribution.append(heads)\n",
    "        \n",
    "    return distribution"
   ]
  },
  {
   "cell_type": "code",
   "execution_count": 14,
   "id": "5e217ae0",
   "metadata": {
    "tags": [
     "notebook_only"
    ]
   },
   "outputs": [
    {
     "name": "stdout",
     "output_type": "stream",
     "text": [
      "[]\n",
      "[0, 0, 0, 0]\n",
      "[]\n",
      "[3, 2, 2, 1]\n",
      "[4, 2, 4, 4, 1, 4, 0, 3, 3, 3]\n"
     ]
    }
   ],
   "source": [
    "def test_compute_distribution():\n",
    "    \"\"\" Test compute_distribution\"\"\"\n",
    "    \n",
    "    print(compute_distribution(0, 0, seed=1))\n",
    "    print(compute_distribution(0, 4, seed=2))\n",
    "    print(compute_distribution(5, 0, seed=3))\n",
    "    print(compute_distribution(4, 4, seed=2))\n",
    "    print(compute_distribution(6, 10, seed=3))\n",
    "\n",
    "\n",
    "test_compute_distribution()"
   ]
  },
  {
   "cell_type": "markdown",
   "id": "539feb7e",
   "metadata": {},
   "source": [
    "Correct output\n",
    "~~~~\n",
    "[]\n",
    "[0, 0, 0, 0]\n",
    "[]\n",
    "[3, 2, 2, 1]\n",
    "[4, 2, 4, 4, 1, 4, 0, 3, 3, 3]\n",
    "~~~~"
   ]
  },
  {
   "cell_type": "code",
   "execution_count": 15,
   "id": "8cb198ea",
   "metadata": {},
   "outputs": [],
   "source": [
    "###########################################################\n",
    "# Student code for plotting distribution in matplotlib - (peer-graded)\n",
    "\n",
    "def plot_distribution(distribution, num_bins, title=\"Binomial distribution\"):\n",
    "    \"\"\"\n",
    "    Input: List distribution of integers, integer num_bins, optional string title\n",
    "    \n",
    "    Output: matplotlib figure containing histogram of distribution with specified \n",
    "    number of bins and provided title\n",
    "    \"\"\"\n",
    "    fig = plt.figure()\n",
    "    bin_boundaries = [-0.5 + idx for idx in range(num_bins + 1)]\n",
    "    plt.hist(distribution, bin_boundaries)\n",
    "    plt.title(title)\n",
    "    plt.xlabel(\"Number of heads\")\n",
    "    plt.ylabel(\"Number of trials\")\n",
    "\n",
    "    return fig"
   ]
  },
  {
   "cell_type": "code",
   "execution_count": 16,
   "id": "c51264da",
   "metadata": {
    "tags": [
     "notebook_only"
    ]
   },
   "outputs": [
    {
     "name": "stdout",
     "output_type": "stream",
     "text": [
      "[3, 0, 3, 1, 2, 4, 2, 2, 2, 2]\n"
     ]
    },
    {
     "data": {
      "image/png": "[encoded data removed]",
      "text/plain": [
       "<Figure size 432x288 with 1 Axes>"
      ]
     },
     "metadata": {
      "needs_background": "light"
     },
     "output_type": "display_data"
    },
    {
     "data": {
      "image/png": "[encoded data removed]",
      "text/plain": [
       "<Figure size 432x288 with 1 Axes>"
      ]
     },
     "metadata": {
      "needs_background": "light"
     },
     "output_type": "display_data"
    },
    {
     "data": {
      "image/png": "[encoded data removed]",
      "text/plain": [
       "<Figure size 432x288 with 1 Axes>"
      ]
     },
     "metadata": {
      "needs_background": "light"
     },
     "output_type": "display_data"
    }
   ],
   "source": [
    "def test_plot_distribution():\n",
    "    \"\"\" \n",
    "    Test plot_distribution - note that number of bins is one more than number of flips\n",
    "    \"\"\"\n",
    "    \n",
    "    dist_4_10 = compute_distribution(4, 10, seed=1)\n",
    "    print(dist_4_10)\n",
    "    plot_distribution(dist_4_10, 5, title=\"Binomial distribution with flips=4 and trials=10\")\n",
    "    \n",
    "    dist_8_100 = compute_distribution(8, 100, seed=109)\n",
    "    plot_distribution(dist_8_100, 9, title=\"Binomial distribution with flips=8 and trials=100\")\n",
    "    \n",
    "    dist_16_1000 = compute_distribution(16, 1000, seed=10)\n",
    "    plot_distribution(dist_16_1000, 17, title=\"Binomial distribution with flips=16 and trials=1000\")\n",
    "    \n",
    "test_plot_distribution()"
   ]
  }
 ],
 "metadata": {
  "celltoolbar": "Tags",
  "kernelspec": {
   "display_name": "Python 3 [3.10]",
   "language": "python",
   "name": "python3"
  },
  "language_info": {
   "codemirror_mode": {
    "name": "ipython",
    "version": 3
   },
   "file_extension": ".py",
   "mimetype": "text/x-python",
   "name": "python",
   "nbconvert_exporter": "python",
   "pygments_lexer": "ipython3",
   "version": "3.10.2"
  }
 },
 "nbformat": 4,
 "nbformat_minor": 5
}
